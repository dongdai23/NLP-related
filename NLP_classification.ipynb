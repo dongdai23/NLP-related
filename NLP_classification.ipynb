{
 "cells": [
  {
   "attachments": {},
   "cell_type": "markdown",
   "metadata": {},
   "source": [
    "- This is a POC to show the capability of creating a NLP model for classificaiton\n",
    "- This note book including fine-tuning the language model and fine-tuning a classifier"
   ]
  },
  {
   "cell_type": "code",
   "execution_count": 1,
   "metadata": {},
   "outputs": [
    {
     "name": "stderr",
     "output_type": "stream",
     "text": [
      "c:\\Users\\dong\\anaconda3\\lib\\site-packages\\pandas\\core\\computation\\expressions.py:20: UserWarning: Pandas requires version '2.7.3' or newer of 'numexpr' (version '2.7.1' currently installed).\n",
      "  from pandas.core.computation.check import NUMEXPR_INSTALLED\n"
     ]
    }
   ],
   "source": [
    "import os\n",
    "import numpy as np\n",
    "import pandas as pd\n",
    "from sklearn.model_selection import train_test_split\n",
    "from sklearn.metrics import accuracy_score, f1_score\n",
    "import matplotlib.pyplot as plt\n",
    "\n",
    "import torch\n",
    "from datasets import Dataset, DatasetDict\n",
    "from transformers import (\n",
    "    TrainingArguments, \n",
    "    Trainer,\n",
    "    AutoTokenizer, \n",
    "    AutoConfig,\n",
    "    AutoModelForSequenceClassification, \n",
    "    AutoModelForMaskedLM,\n",
    "    DataCollatorForLanguageModeling, \n",
    "    set_seed\n",
    ")"
   ]
  },
  {
   "cell_type": "code",
   "execution_count": 2,
   "metadata": {},
   "outputs": [],
   "source": [
    "# config file, including the parameters that are used in the notebook\n",
    "model_config = {\n",
    "    'max_length': 256,\n",
    "    'model_ckpt': \"bert-base-uncased\",\n",
    "    'language_model_output': './results/tuned_language_256/',\n",
    "    'classifier_model_output': './results/tuned_classifier_256/',\n",
    "    'batch_size': 16,\n",
    "    'language_model_epochs': 8,\n",
    "    'classifier_model_epochs': 3,\n",
    "}\n",
    "\n",
    "device = torch.device(\"cuda\" if torch.cuda.is_available() else \"cpu\")"
   ]
  },
  {
   "cell_type": "code",
   "execution_count": 3,
   "metadata": {},
   "outputs": [],
   "source": [
    "# Read Data\n",
    "DATA_DIR = os.path.abspath('') + '/data'\n",
    "df_train = pd.read_csv(DATA_DIR + '/train.tsv', sep = '\\t')\n",
    "df_val = pd.read_csv(DATA_DIR + '/val.tsv', sep = '\\t')\n",
    "df_test = pd.read_csv(DATA_DIR + '/test.tsv', sep = '\\t')"
   ]
  },
  {
   "cell_type": "code",
   "execution_count": 4,
   "metadata": {},
   "outputs": [
    {
     "name": "stdout",
     "output_type": "stream",
     "text": [
      "training dataset -- 35000 \n",
      "evaluation dataset -- 5000\n",
      "test dataset -- 10000\n"
     ]
    }
   ],
   "source": [
    "# take a look at the datasets\n",
    "print('training dataset -- {} \\nevaluation dataset -- {}\\ntest dataset -- {}'.format(len(df_train), len(df_val), len(df_test)))"
   ]
  },
  {
   "cell_type": "code",
   "execution_count": 5,
   "metadata": {},
   "outputs": [
    {
     "data": {
      "text/plain": [
       "Index(['Product', 'Consumer complaint narrative'], dtype='object')"
      ]
     },
     "execution_count": 5,
     "metadata": {},
     "output_type": "execute_result"
    }
   ],
   "source": [
    "# data column names\n",
    "# 'Product': the label column, this is a single-label problem;\n",
    "# 'Consumer complaint narrative': string of text, which is used to predict 'Product'\n",
    "df_train.columns"
   ]
  },
  {
   "cell_type": "code",
   "execution_count": 6,
   "metadata": {},
   "outputs": [
    {
     "data": {
      "text/plain": [
       "Credit reporting, credit repair services, or other personal consumer reports    14789\n",
       "Debt collection                                                                  7883\n",
       "Mortgage                                                                         4261\n",
       "Credit card or prepaid card                                                      3011\n",
       "Checking or savings account                                                      1813\n",
       "Credit reporting                                                                 1683\n",
       "Student loan                                                                     1560\n",
       "Name: Product, dtype: int64"
      ]
     },
     "execution_count": 6,
     "metadata": {},
     "output_type": "execute_result"
    }
   ],
   "source": [
    "# the counts for different 'Product'\n",
    "df_train['Product'].value_counts()"
   ]
  },
  {
   "cell_type": "code",
   "execution_count": 7,
   "metadata": {},
   "outputs": [],
   "source": [
    "# create a mapping between labels and a integer\n",
    "label2int = {k:v for v, k in enumerate(df_train['Product'].unique().tolist())}"
   ]
  },
  {
   "cell_type": "code",
   "execution_count": 8,
   "metadata": {},
   "outputs": [
    {
     "data": {
      "image/png": "[encoded data removed]",
      "text/plain": [
       "<Figure size 432x288 with 1 Axes>"
      ]
     },
     "metadata": {
      "needs_background": "light"
     },
     "output_type": "display_data"
    }
   ],
   "source": [
    "# a plot to show the distribution of the text length\n",
    "# based on the plot, the text length set to be 256 would be a proper number\n",
    "(df_train['Consumer complaint narrative'].str.split().apply(len)\n",
    " .hist(bins=np.linspace(0, 500, 50), grid=False, edgecolor=\"C0\"))\n",
    "plt.title(\"Words per Consumer complaint\")\n",
    "plt.xlabel(\"Number of words\")\n",
    "plt.ylabel(\"Number of Consumer complaint\")\n",
    "plt.show()"
   ]
  },
  {
   "cell_type": "markdown",
   "metadata": {},
   "source": [
    "## create training sets"
   ]
  },
  {
   "cell_type": "code",
   "execution_count": 9,
   "metadata": {},
   "outputs": [],
   "source": [
    "def create_dataframe(df):\n",
    "    # change column names\n",
    "    df.rename(columns={'Product':'label', 'Consumer complaint narrative':'text'}, inplace=True)\n",
    "    # map the label to the integer\n",
    "    df['label'] = df['label'].replace(label2int)\n",
    "    return df\n",
    "\n",
    "df_train = create_dataframe(df_train)\n",
    "df_val = create_dataframe(df_val)\n",
    "df_test = create_dataframe(df_test)"
   ]
  },
  {
   "cell_type": "code",
   "execution_count": 10,
   "metadata": {},
   "outputs": [],
   "source": [
    "# create datsetdic for transformers model\n",
    "ds = DatasetDict({\n",
    "    \"train\": Dataset.from_pandas(df_train.reset_index(drop=True)),\n",
    "    \"valid\": Dataset.from_pandas(df_val.reset_index(drop=True)),\n",
    "    \"test\": Dataset.from_pandas(df_test.reset_index(drop=True))\n",
    "    })"
   ]
  },
  {
   "attachments": {},
   "cell_type": "markdown",
   "metadata": {},
   "source": [
    "## fine-tuning the language model\n",
    "- using mask language modeling"
   ]
  },
  {
   "cell_type": "code",
   "execution_count": 11,
   "metadata": {},
   "outputs": [
    {
     "data": {
      "application/vnd.jupyter.widget-view+json": {
       "model_id": "a12888565fd74f1eb2f4c3d6e1b8f261",
       "version_major": 2,
       "version_minor": 0
      },
      "text/plain": [
       "  0%|          | 0/35 [00:00<?, ?ba/s]"
      ]
     },
     "metadata": {},
     "output_type": "display_data"
    },
    {
     "data": {
      "application/vnd.jupyter.widget-view+json": {
       "model_id": "e97a516dfb714a0cbb3bd0b1ef2fa85b",
       "version_major": 2,
       "version_minor": 0
      },
      "text/plain": [
       "  0%|          | 0/5 [00:00<?, ?ba/s]"
      ]
     },
     "metadata": {},
     "output_type": "display_data"
    },
    {
     "data": {
      "application/vnd.jupyter.widget-view+json": {
       "model_id": "74c4f3fbbaa94d64993a2fe750098549",
       "version_major": 2,
       "version_minor": 0
      },
      "text/plain": [
       "  0%|          | 0/10 [00:00<?, ?ba/s]"
      ]
     },
     "metadata": {},
     "output_type": "display_data"
    }
   ],
   "source": [
    "# load tokenizer\n",
    "tokenizer = AutoTokenizer.from_pretrained(model_config['model_ckpt'])\n",
    "# create dataset for the mask language modeling\n",
    "def tokenize(batch, tokenizer=tokenizer):\n",
    "    return tokenizer(batch[\"text\"], truncation=True,\n",
    "                     max_length=model_config['max_length'], \n",
    "                     return_special_tokens_mask=True)\n",
    "\n",
    "ds_mlm = ds.map(tokenize, batched=True)\n",
    "ds_mlm = ds_mlm.remove_columns([\"label\", \"text\"])"
   ]
  },
  {
   "cell_type": "code",
   "execution_count": 12,
   "metadata": {},
   "outputs": [
    {
     "name": "stderr",
     "output_type": "stream",
     "text": [
      "Some weights of the model checkpoint at bert-base-uncased were not used when initializing BertForMaskedLM: ['cls.seq_relationship.bias', 'cls.seq_relationship.weight']\n",
      "- This IS expected if you are initializing BertForMaskedLM from the checkpoint of a model trained on another task or with another architecture (e.g. initializing a BertForSequenceClassification model from a BertForPreTraining model).\n",
      "- This IS NOT expected if you are initializing BertForMaskedLM from the checkpoint of a model that you expect to be exactly identical (initializing a BertForSequenceClassification model from a BertForSequenceClassification model).\n"
     ]
    },
    {
     "data": {
      "application/vnd.jupyter.widget-view+json": {
       "model_id": "2a9c79af615746c4afc1366736dec9dc",
       "version_major": 2,
       "version_minor": 0
      },
      "text/plain": [
       "  0%|          | 0/17504 [00:00<?, ?it/s]"
      ]
     },
     "metadata": {},
     "output_type": "display_data"
    },
    {
     "name": "stdout",
     "output_type": "stream",
     "text": [
      "{'loss': 1.6616, 'learning_rate': 4.375e-05, 'epoch': 1.0}\n"
     ]
    },
    {
     "data": {
      "application/vnd.jupyter.widget-view+json": {
       "model_id": "d4c13afda0e545a19fd0a6c301659abf",
       "version_major": 2,
       "version_minor": 0
      },
      "text/plain": [
       "  0%|          | 0/625 [00:00<?, ?it/s]"
      ]
     },
     "metadata": {},
     "output_type": "display_data"
    },
    {
     "name": "stdout",
     "output_type": "stream",
     "text": [
      "{'eval_loss': 1.4505548477172852, 'eval_runtime': 103.5988, 'eval_samples_per_second': 48.263, 'eval_steps_per_second': 6.033, 'epoch': 1.0}\n",
      "{'loss': 1.4582, 'learning_rate': 3.7500000000000003e-05, 'epoch': 2.0}\n"
     ]
    },
    {
     "data": {
      "application/vnd.jupyter.widget-view+json": {
       "model_id": "ea98848afcff43889ff9dcda678fac46",
       "version_major": 2,
       "version_minor": 0
      },
      "text/plain": [
       "  0%|          | 0/625 [00:00<?, ?it/s]"
      ]
     },
     "metadata": {},
     "output_type": "display_data"
    },
    {
     "name": "stdout",
     "output_type": "stream",
     "text": [
      "{'eval_loss': 1.3628201484680176, 'eval_runtime': 98.9671, 'eval_samples_per_second': 50.522, 'eval_steps_per_second': 6.315, 'epoch': 2.0}\n",
      "{'loss': 1.3814, 'learning_rate': 3.125e-05, 'epoch': 3.0}\n"
     ]
    },
    {
     "data": {
      "application/vnd.jupyter.widget-view+json": {
       "model_id": "0d44ecd529b746dc80608a411ca61e25",
       "version_major": 2,
       "version_minor": 0
      },
      "text/plain": [
       "  0%|          | 0/625 [00:00<?, ?it/s]"
      ]
     },
     "metadata": {},
     "output_type": "display_data"
    },
    {
     "name": "stdout",
     "output_type": "stream",
     "text": [
      "{'eval_loss': 1.313732624053955, 'eval_runtime': 102.6583, 'eval_samples_per_second': 48.705, 'eval_steps_per_second': 6.088, 'epoch': 3.0}\n",
      "{'loss': 1.3229, 'learning_rate': 2.5e-05, 'epoch': 4.0}\n"
     ]
    },
    {
     "data": {
      "application/vnd.jupyter.widget-view+json": {
       "model_id": "4366ec28683747789614d1d9de94769e",
       "version_major": 2,
       "version_minor": 0
      },
      "text/plain": [
       "  0%|          | 0/625 [00:00<?, ?it/s]"
      ]
     },
     "metadata": {},
     "output_type": "display_data"
    },
    {
     "name": "stdout",
     "output_type": "stream",
     "text": [
      "{'eval_loss': 1.2686212062835693, 'eval_runtime': 96.6144, 'eval_samples_per_second': 51.752, 'eval_steps_per_second': 6.469, 'epoch': 4.0}\n",
      "{'loss': 1.2767, 'learning_rate': 1.8750000000000002e-05, 'epoch': 5.0}\n"
     ]
    },
    {
     "data": {
      "application/vnd.jupyter.widget-view+json": {
       "model_id": "927431eb347a42118661f35311a39d79",
       "version_major": 2,
       "version_minor": 0
      },
      "text/plain": [
       "  0%|          | 0/625 [00:00<?, ?it/s]"
      ]
     },
     "metadata": {},
     "output_type": "display_data"
    },
    {
     "name": "stdout",
     "output_type": "stream",
     "text": [
      "{'eval_loss': 1.250378131866455, 'eval_runtime': 102.4152, 'eval_samples_per_second': 48.821, 'eval_steps_per_second': 6.103, 'epoch': 5.0}\n",
      "{'loss': 1.2396, 'learning_rate': 1.25e-05, 'epoch': 6.0}\n"
     ]
    },
    {
     "data": {
      "application/vnd.jupyter.widget-view+json": {
       "model_id": "cb9fb85845444633903dd9705fdca6f7",
       "version_major": 2,
       "version_minor": 0
      },
      "text/plain": [
       "  0%|          | 0/625 [00:00<?, ?it/s]"
      ]
     },
     "metadata": {},
     "output_type": "display_data"
    },
    {
     "name": "stdout",
     "output_type": "stream",
     "text": [
      "{'eval_loss': 1.2216867208480835, 'eval_runtime': 66.1933, 'eval_samples_per_second': 75.536, 'eval_steps_per_second': 9.442, 'epoch': 6.0}\n",
      "{'loss': 1.2144, 'learning_rate': 6.25e-06, 'epoch': 7.0}\n"
     ]
    },
    {
     "data": {
      "application/vnd.jupyter.widget-view+json": {
       "model_id": "8ec35f48299b441790c18c5d76943544",
       "version_major": 2,
       "version_minor": 0
      },
      "text/plain": [
       "  0%|          | 0/625 [00:00<?, ?it/s]"
      ]
     },
     "metadata": {},
     "output_type": "display_data"
    },
    {
     "name": "stdout",
     "output_type": "stream",
     "text": [
      "{'eval_loss': 1.204223871231079, 'eval_runtime': 79.5783, 'eval_samples_per_second': 62.831, 'eval_steps_per_second': 7.854, 'epoch': 7.0}\n",
      "{'loss': 1.1911, 'learning_rate': 0.0, 'epoch': 8.0}\n"
     ]
    },
    {
     "data": {
      "application/vnd.jupyter.widget-view+json": {
       "model_id": "d441661176d54053803e1f3de96dd216",
       "version_major": 2,
       "version_minor": 0
      },
      "text/plain": [
       "  0%|          | 0/625 [00:00<?, ?it/s]"
      ]
     },
     "metadata": {},
     "output_type": "display_data"
    },
    {
     "name": "stdout",
     "output_type": "stream",
     "text": [
      "{'eval_loss': 1.1981565952301025, 'eval_runtime': 98.7687, 'eval_samples_per_second': 50.623, 'eval_steps_per_second': 6.328, 'epoch': 8.0}\n",
      "{'train_runtime': 12117.572, 'train_samples_per_second': 23.107, 'train_steps_per_second': 1.445, 'train_loss': 1.343237672906907, 'epoch': 8.0}\n"
     ]
    },
    {
     "data": {
      "text/plain": [
       "TrainOutput(global_step=17504, training_loss=1.343237672906907, metrics={'train_runtime': 12117.572, 'train_samples_per_second': 23.107, 'train_steps_per_second': 1.445, 'train_loss': 1.343237672906907, 'epoch': 8.0})"
      ]
     },
     "execution_count": 12,
     "metadata": {},
     "output_type": "execute_result"
    }
   ],
   "source": [
    "# create data collator\n",
    "data_collator = DataCollatorForLanguageModeling(tokenizer=tokenizer,\n",
    "                                                mlm_probability=0.15,\n",
    "                                                return_tensors = \"pt\")\n",
    "\n",
    "# create train args\n",
    "language_tunning_training_args = TrainingArguments(\n",
    "    output_dir = model_config['language_model_output'], \n",
    "    per_device_train_batch_size = model_config['batch_size'],\n",
    "    disable_tqdm=False, logging_strategy=\"epoch\", \n",
    "    evaluation_strategy=\"epoch\", save_strategy=\"no\",\n",
    "    num_train_epochs=model_config['language_model_epochs'], \n",
    "    log_level=\"error\", report_to=\"none\")\n",
    "\n",
    "trainer = Trainer(\n",
    "        model=AutoModelForMaskedLM.from_pretrained(model_config['model_ckpt']).to(device),\n",
    "        tokenizer=tokenizer, args=language_tunning_training_args, data_collator=data_collator,\n",
    "        train_dataset=ds_mlm[\"train\"], eval_dataset=ds_mlm[\"valid\"])\n",
    "\n",
    "trainer.train()"
   ]
  },
  {
   "cell_type": "code",
   "execution_count": 13,
   "metadata": {},
   "outputs": [
    {
     "data": {
      "text/plain": [
       "('./results/tuned_language_256/tokenizer_config.json',\n",
       " './results/tuned_language_256/special_tokens_map.json',\n",
       " './results/tuned_language_256/vocab.txt',\n",
       " './results/tuned_language_256/added_tokens.json',\n",
       " './results/tuned_language_256/tokenizer.json')"
      ]
     },
     "execution_count": 13,
     "metadata": {},
     "output_type": "execute_result"
    }
   ],
   "source": [
    "# save model and tokenizer\n",
    "trainer.save_model(model_config['language_model_output'])\n",
    "tokenizer.save_pretrained(model_config['language_model_output'])"
   ]
  },
  {
   "cell_type": "code",
   "execution_count": 14,
   "metadata": {},
   "outputs": [
    {
     "data": {
      "image/png": "[encoded data removed]",
      "text/plain": [
       "<Figure size 432x288 with 1 Axes>"
      ]
     },
     "metadata": {
      "needs_background": "light"
     },
     "output_type": "display_data"
    }
   ],
   "source": [
    "df_log = pd.DataFrame(trainer.state.log_history)\n",
    "\n",
    "(df_log.dropna(subset=[\"eval_loss\"]).reset_index()[\"eval_loss\"]\n",
    " .plot(label=\"Validation\"))\n",
    "df_log.dropna(subset=[\"loss\"]).reset_index()[\"loss\"].plot(label=\"Train\")\n",
    " \n",
    "plt.xlabel(\"Epochs\")\n",
    "plt.ylabel(\"Loss\")\n",
    "plt.legend(loc=\"upper right\")\n",
    "plt.show()"
   ]
  },
  {
   "cell_type": "markdown",
   "metadata": {},
   "source": [
    "## Fine-Tuning a classifier"
   ]
  },
  {
   "cell_type": "code",
   "execution_count": 15,
   "metadata": {},
   "outputs": [
    {
     "data": {
      "application/vnd.jupyter.widget-view+json": {
       "model_id": "42733ad2e9814a458b55d6b9aa410291",
       "version_major": 2,
       "version_minor": 0
      },
      "text/plain": [
       "  0%|          | 0/35 [00:00<?, ?ba/s]"
      ]
     },
     "metadata": {},
     "output_type": "display_data"
    },
    {
     "data": {
      "application/vnd.jupyter.widget-view+json": {
       "model_id": "7cff746b79694ad0bd57b09d2e4286b7",
       "version_major": 2,
       "version_minor": 0
      },
      "text/plain": [
       "  0%|          | 0/5 [00:00<?, ?ba/s]"
      ]
     },
     "metadata": {},
     "output_type": "display_data"
    },
    {
     "data": {
      "application/vnd.jupyter.widget-view+json": {
       "model_id": "a5a0d2c323f34a80b8af79510f37b152",
       "version_major": 2,
       "version_minor": 0
      },
      "text/plain": [
       "  0%|          | 0/10 [00:00<?, ?ba/s]"
      ]
     },
     "metadata": {},
     "output_type": "display_data"
    }
   ],
   "source": [
    "# load tokenizer\n",
    "tokenizer = AutoTokenizer.from_pretrained(model_config['language_model_output'])\n",
    "\n",
    "# create dataset for fine-tuning classifier model\n",
    "ds_enc = ds.map(tokenize, batched=True)\n",
    "ds_enc = ds_enc.remove_columns(['text', 'special_tokens_mask'])\n",
    "\n",
    "ds_enc.set_format(\"torch\")"
   ]
  },
  {
   "cell_type": "code",
   "execution_count": 16,
   "metadata": {},
   "outputs": [],
   "source": [
    "# load model from tuned language model output\n",
    "model = (AutoModelForSequenceClassification\n",
    "         .from_pretrained(model_config['language_model_output'], num_labels=len(label2int))\n",
    "         .to(device))\n",
    "\n",
    "training_args_fine_tune = TrainingArguments(\n",
    "    output_dir=model_config['classifier_model_output'], \n",
    "    num_train_epochs=model_config['classifier_model_epochs'], \n",
    "    learning_rate=3e-5,\n",
    "    lr_scheduler_type='constant', \n",
    "    per_device_train_batch_size=model_config['batch_size'],\n",
    "    per_device_eval_batch_size=model_config['batch_size'], \n",
    "    weight_decay=0.01, \n",
    "    evaluation_strategy=\"epoch\", save_strategy=\"no\",logging_strategy=\"epoch\",\n",
    "    # load_best_model_at_end=True,\n",
    "    disable_tqdm=False, save_total_limit=2, log_level='error')"
   ]
  },
  {
   "cell_type": "code",
   "execution_count": 17,
   "metadata": {},
   "outputs": [],
   "source": [
    "# write the metrics function \n",
    "def compute_metrics(pred):\n",
    "    labels = pred.label_ids\n",
    "    preds = pred.predictions.argmax(-1)\n",
    "    f1 = f1_score(labels, preds, average=\"weighted\")\n",
    "    acc = accuracy_score(labels, preds)\n",
    "    return {\"accuracy\": acc, \"f1\": f1}"
   ]
  },
  {
   "cell_type": "code",
   "execution_count": 18,
   "metadata": {},
   "outputs": [
    {
     "data": {
      "application/vnd.jupyter.widget-view+json": {
       "model_id": "76943bc18e0846e58ec610f021e7a333",
       "version_major": 2,
       "version_minor": 0
      },
      "text/plain": [
       "  0%|          | 0/35 [00:00<?, ?ba/s]"
      ]
     },
     "metadata": {},
     "output_type": "display_data"
    },
    {
     "data": {
      "application/vnd.jupyter.widget-view+json": {
       "model_id": "72c21a903c964d6e947c18384d574138",
       "version_major": 2,
       "version_minor": 0
      },
      "text/plain": [
       "  0%|          | 0/5 [00:00<?, ?ba/s]"
      ]
     },
     "metadata": {},
     "output_type": "display_data"
    },
    {
     "data": {
      "application/vnd.jupyter.widget-view+json": {
       "model_id": "2f5729f3112140d59a9d341c4ddd9eff",
       "version_major": 2,
       "version_minor": 0
      },
      "text/plain": [
       "  0%|          | 0/10 [00:00<?, ?ba/s]"
      ]
     },
     "metadata": {},
     "output_type": "display_data"
    }
   ],
   "source": [
    "# create\n",
    "ds_enc = ds.map(tokenize, batched=True)\n",
    "ds_enc = ds_enc.remove_columns(['text', 'special_tokens_mask'])\n",
    "\n",
    "ds_enc.set_format(\"torch\")"
   ]
  },
  {
   "cell_type": "code",
   "execution_count": 19,
   "metadata": {},
   "outputs": [
    {
     "data": {
      "application/vnd.jupyter.widget-view+json": {
       "model_id": "5f92d03e482048839a256ecaec19497b",
       "version_major": 2,
       "version_minor": 0
      },
      "text/plain": [
       "  0%|          | 0/6564 [00:00<?, ?it/s]"
      ]
     },
     "metadata": {},
     "output_type": "display_data"
    },
    {
     "name": "stdout",
     "output_type": "stream",
     "text": [
      "{'loss': 0.5545, 'learning_rate': 3e-05, 'epoch': 1.0}\n"
     ]
    },
    {
     "data": {
      "application/vnd.jupyter.widget-view+json": {
       "model_id": "f66b93c8e9a64cb9b0ba38953fe423f0",
       "version_major": 2,
       "version_minor": 0
      },
      "text/plain": [
       "  0%|          | 0/313 [00:00<?, ?it/s]"
      ]
     },
     "metadata": {},
     "output_type": "display_data"
    },
    {
     "name": "stdout",
     "output_type": "stream",
     "text": [
      "{'eval_loss': 0.5151715874671936, 'eval_accuracy': 0.8222, 'eval_f1': 0.8186776600738466, 'eval_runtime': 42.8177, 'eval_samples_per_second': 116.774, 'eval_steps_per_second': 7.31, 'epoch': 1.0}\n",
      "{'loss': 0.3797, 'learning_rate': 3e-05, 'epoch': 2.0}\n"
     ]
    },
    {
     "data": {
      "application/vnd.jupyter.widget-view+json": {
       "model_id": "f86e5cf449014f84a5a988aa08bd1b8c",
       "version_major": 2,
       "version_minor": 0
      },
      "text/plain": [
       "  0%|          | 0/313 [00:00<?, ?it/s]"
      ]
     },
     "metadata": {},
     "output_type": "display_data"
    },
    {
     "name": "stdout",
     "output_type": "stream",
     "text": [
      "{'eval_loss': 0.4620875120162964, 'eval_accuracy': 0.8454, 'eval_f1': 0.8420448176149775, 'eval_runtime': 42.5281, 'eval_samples_per_second': 117.569, 'eval_steps_per_second': 7.36, 'epoch': 2.0}\n",
      "{'loss': 0.2654, 'learning_rate': 3e-05, 'epoch': 3.0}\n"
     ]
    },
    {
     "data": {
      "application/vnd.jupyter.widget-view+json": {
       "model_id": "54b7ae9cdcad4f85912e056cc947b0c8",
       "version_major": 2,
       "version_minor": 0
      },
      "text/plain": [
       "  0%|          | 0/313 [00:00<?, ?it/s]"
      ]
     },
     "metadata": {},
     "output_type": "display_data"
    },
    {
     "name": "stdout",
     "output_type": "stream",
     "text": [
      "{'eval_loss': 0.5854176878929138, 'eval_accuracy': 0.835, 'eval_f1': 0.8347772828768925, 'eval_runtime': 52.3511, 'eval_samples_per_second': 95.509, 'eval_steps_per_second': 5.979, 'epoch': 3.0}\n",
      "{'train_runtime': 2986.6426, 'train_samples_per_second': 35.157, 'train_steps_per_second': 2.198, 'train_loss': 0.39987842808548524, 'epoch': 3.0}\n"
     ]
    },
    {
     "data": {
      "text/plain": [
       "TrainOutput(global_step=6564, training_loss=0.39987842808548524, metrics={'train_runtime': 2986.6426, 'train_samples_per_second': 35.157, 'train_steps_per_second': 2.198, 'train_loss': 0.39987842808548524, 'epoch': 3.0})"
      ]
     },
     "execution_count": 19,
     "metadata": {},
     "output_type": "execute_result"
    }
   ],
   "source": [
    "trainer = Trainer(model=model, args=training_args_fine_tune, \n",
    "                  compute_metrics=compute_metrics,\n",
    "                  train_dataset=ds_enc[\"train\"],\n",
    "                  eval_dataset=ds_enc[\"valid\"],\n",
    "                  tokenizer=tokenizer)\n",
    "trainer.train()"
   ]
  },
  {
   "cell_type": "code",
   "execution_count": 20,
   "metadata": {},
   "outputs": [
    {
     "data": {
      "application/vnd.jupyter.widget-view+json": {
       "model_id": "3358791441254c4baf7147b83a56c392",
       "version_major": 2,
       "version_minor": 0
      },
      "text/plain": [
       "  0%|          | 0/625 [00:00<?, ?it/s]"
      ]
     },
     "metadata": {},
     "output_type": "display_data"
    },
    {
     "data": {
      "text/plain": [
       "{'accuracy': 0.8433, 'f1': 0.8430471788083367}"
      ]
     },
     "execution_count": 20,
     "metadata": {},
     "output_type": "execute_result"
    }
   ],
   "source": [
    "test_results = trainer.predict(ds_enc['test'])\n",
    "metrics1 = compute_metrics(test_results)\n",
    "metrics1"
   ]
  },
  {
   "cell_type": "code",
   "execution_count": 21,
   "metadata": {},
   "outputs": [
    {
     "data": {
      "text/plain": [
       "('./results/tuned_classifier_256/tokenizer_config.json',\n",
       " './results/tuned_classifier_256/special_tokens_map.json',\n",
       " './results/tuned_classifier_256/vocab.txt',\n",
       " './results/tuned_classifier_256/added_tokens.json',\n",
       " './results/tuned_classifier_256/tokenizer.json')"
      ]
     },
     "execution_count": 21,
     "metadata": {},
     "output_type": "execute_result"
    }
   ],
   "source": [
    "trainer.save_model(model_config['classifier_model_output'])\n",
    "tokenizer.save_pretrained(model_config['classifier_model_output'])"
   ]
  },
  {
   "cell_type": "markdown",
   "metadata": {},
   "source": [
    "## predict on test dataset"
   ]
  },
  {
   "cell_type": "markdown",
   "metadata": {},
   "source": [
    "[test link](https://discuss.huggingface.co/t/using-trainer-at-inference-time/9378/2)"
   ]
  },
  {
   "cell_type": "code",
   "execution_count": 22,
   "metadata": {},
   "outputs": [
    {
     "name": "stderr",
     "output_type": "stream",
     "text": [
      "***** Running Prediction *****\n",
      "  Num examples = 10000\n",
      "  Batch size = 1\n"
     ]
    },
    {
     "data": {
      "text/plain": [
       "{'accuracy': 0.8433, 'f1': 0.8430471788083367}"
      ]
     },
     "execution_count": 22,
     "metadata": {},
     "output_type": "execute_result"
    }
   ],
   "source": [
    "test_model = AutoModelForSequenceClassification.from_pretrained(model_config['classifier_model_output']).to(device)\n",
    "\n",
    "# arguments for Trainer\n",
    "test_args = TrainingArguments(\n",
    "    output_dir = model_config['classifier_model_output'],\n",
    "    do_train = False,\n",
    "    do_predict = True,\n",
    "    per_device_eval_batch_size = 1,   \n",
    "    dataloader_drop_last = False    \n",
    ")\n",
    "\n",
    "# init trainer\n",
    "test_trainer = Trainer(model = test_model, args = test_args, compute_metrics = compute_metrics)\n",
    "\n",
    "test_results = test_trainer.predict(ds_enc['test'])\n",
    "metrics1 = compute_metrics(test_results)\n",
    "metrics1"
   ]
  },
  {
   "cell_type": "code",
   "execution_count": null,
   "metadata": {},
   "outputs": [],
   "source": []
  }
 ],
 "metadata": {
  "kernelspec": {
   "display_name": "Python 3.8.5 ('base')",
   "language": "python",
   "name": "python3"
  },
  "language_info": {
   "codemirror_mode": {
    "name": "ipython",
    "version": 3
   },
   "file_extension": ".py",
   "mimetype": "text/x-python",
   "name": "python",
   "nbconvert_exporter": "python",
   "pygments_lexer": "ipython3",
   "version": "3.8.5"
  },
  "vscode": {
   "interpreter": {
    "hash": "7202c71354789b9729951f57922a4d80fbc45b30e31f45163943ff4ec8d73cbd"
   }
  }
 },
 "nbformat": 4,
 "nbformat_minor": 4
}
